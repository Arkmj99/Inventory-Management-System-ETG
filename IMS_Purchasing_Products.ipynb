{
  "nbformat": 4,
  "nbformat_minor": 0,
  "metadata": {
    "colab": {
      "name": "IMS-Purchasing Products.ipynb",
      "provenance": [],
      "collapsed_sections": []
    },
    "kernelspec": {
      "name": "python3",
      "display_name": "Python 3"
    },
    "language_info": {
      "name": "python"
    }
  },
  "cells": [
    {
      "cell_type": "markdown",
      "metadata": {
        "id": "ahx4ASwYVysU"
      },
      "source": [
        "## Read Inventory\n"
      ]
    },
    {
      "cell_type": "code",
      "metadata": {
        "id": "IZFjc9cjT5Vx"
      },
      "source": [
        "import json\n",
        "\n",
        "fd = open(\"record.json\",'r')\n",
        "r = fd.read()\n",
        "fd.close()\n",
        "\n",
        "records = json.loads(r)"
      ],
      "execution_count": 4,
      "outputs": []
    },
    {
      "cell_type": "code",
      "metadata": {
        "colab": {
          "base_uri": "https://localhost:8080/"
        },
        "id": "u9ecKdAuZiiw",
        "outputId": "5969b623-0f67-4835-8720-00608bfa2523"
      },
      "source": [
        "records"
      ],
      "execution_count": 5,
      "outputs": [
        {
          "output_type": "execute_result",
          "data": {
            "text/plain": [
              "{'41307341': {'GST Rate': '5%',\n",
              "  'Name': 'Corn Flakes',\n",
              "  'Price': 250,\n",
              "  'Quantity': 500},\n",
              " '41307342': {'GST Rate': '5%',\n",
              "  'Name': 'Cerelac',\n",
              "  'Price': 180,\n",
              "  'Quantity': 300},\n",
              " '41307343': {'GST Rate': '12%',\n",
              "  'Name': 'Maggi',\n",
              "  'Price': 15,\n",
              "  'Quantity': 600},\n",
              " '41307344': {'GST Rate': '12%',\n",
              "  'Name': 'KitKat',\n",
              "  'Price': 10,\n",
              "  'Quantity': 200},\n",
              " '41307345': {'GST Rate': '18%',\n",
              "  'Name': 'Nescafe Classic Coffee',\n",
              "  'Price': 60,\n",
              "  'Quantity': 100},\n",
              " '41307346': {'GST Rate': '5%',\n",
              "  'Name': 'Tomato Sauce',\n",
              "  'Price': 110,\n",
              "  'Quantity': 150},\n",
              " '41307347': {'GST Rate': '12%',\n",
              "  'Name': 'Pringles',\n",
              "  'Price': 65,\n",
              "  'Quantity': 250},\n",
              " '41307348': {'GST Rate': '5%', 'Name': \"Lay's\", 'Price': 30, 'Quantity': 400},\n",
              " '41307349': {'GST Rate': '5%',\n",
              "  'Name': 'Butter',\n",
              "  'Price': 45,\n",
              "  'Quantity': 600},\n",
              " '41307350': {'GST Rate': '5%',\n",
              "  'Name': 'Chilli Sauce',\n",
              "  'Price': 250,\n",
              "  'Quantity': 500},\n",
              " '41307351': {'GST Rate': '5%',\n",
              "  'Name': 'Quaker Oats',\n",
              "  'Price': 220,\n",
              "  'Quantity': 100},\n",
              " '41307352': {'GST Rate': '12%', 'Name': 'Perk', 'Price': 10, 'Quantity': 700},\n",
              " '41307353': {'GST Rate': '12%',\n",
              "  'Name': 'Cadbury Dairy Milk',\n",
              "  'Price': 10,\n",
              "  'Quantity': 200},\n",
              " '41307354': {'GST Rate': '5%',\n",
              "  'Name': 'Cadbury Gems',\n",
              "  'Price': 20,\n",
              "  'Quantity': 100},\n",
              " '41307355': {'GST Rate': '18%',\n",
              "  'Name': 'Lipton Green Tea',\n",
              "  'Price': 70,\n",
              "  'Quantity': 100},\n",
              " '41307356': {'GST Rate': '12%',\n",
              "  'Name': 'Knorr Soup',\n",
              "  'Price': 35,\n",
              "  'Quantity': 225},\n",
              " '41307357': {'GST Rate': '12%',\n",
              "  'Name': 'Cashewnut Cookies',\n",
              "  'Price': 55,\n",
              "  'Quantity': 400},\n",
              " '41307358': {'GST Rate': '5%',\n",
              "  'Name': 'Cheese Slice',\n",
              "  'Price': 60,\n",
              "  'Quantity': 50},\n",
              " '41307359': {'GST Rate': '5%',\n",
              "  'Name': '5 Star',\n",
              "  'Price': 25,\n",
              "  'Quantity': 550},\n",
              " '41307360': {'GST Rate': '0%',\n",
              "  'Name': 'Milk packet',\n",
              "  'Price': 24,\n",
              "  'Quantity': 60},\n",
              " '41307363': {'GST Rate': '5%',\n",
              "  'Name': 'Milk Bikis biscuit',\n",
              "  'Price': 40,\n",
              "  'Quantity': 300},\n",
              " '41307364': {'GST Rate': '12%',\n",
              "  'Name': 'Mayonnaise',\n",
              "  'Price': 50,\n",
              "  'Quantity': 80},\n",
              " '41307365': {'GST Rate': '5%',\n",
              "  'Name': 'Cream Cracker biscuit',\n",
              "  'Price': 30,\n",
              "  'Quantity': 850},\n",
              " '41307366': {'GST Rate': '5%',\n",
              "  'Name': 'Croissant',\n",
              "  'Price': 15,\n",
              "  'Quantity': 300},\n",
              " '41307367': {'GST Rate': '12%',\n",
              "  'Name': 'Pepsi Can',\n",
              "  'Price': 40,\n",
              "  'Quantity': 100},\n",
              " '41307368': {'GST Rate': '12%',\n",
              "  'Name': '7Up Can',\n",
              "  'Price': 40,\n",
              "  'Quantity': 40},\n",
              " '41307369': {'GST Rate': '12%',\n",
              "  'Name': 'Thums Up',\n",
              "  'Price': 15,\n",
              "  'Quantity': 200},\n",
              " '41307370': {'GST Rate': '12%',\n",
              "  'Name': 'Sprite Bottle',\n",
              "  'Price': 36,\n",
              "  'Quantity': 120},\n",
              " '41307371': {'GST Rate': '12%',\n",
              "  'Name': 'Ice Cream',\n",
              "  'Price': 50,\n",
              "  'Quantity': 240}}"
            ]
          },
          "metadata": {},
          "execution_count": 5
        }
      ]
    },
    {
      "cell_type": "markdown",
      "metadata": {
        "id": "SzziYdhycoCO"
      },
      "source": [
        "## Purchase"
      ]
    },
    {
      "cell_type": "code",
      "metadata": {
        "colab": {
          "base_uri": "https://localhost:8080/"
        },
        "id": "Til6SycIcuCm",
        "outputId": "cf8e71c7-e8f8-4c27-cb90-6648782f5422"
      },
      "source": [
        "ui_prod = str(input(\"Enter the Product Id: \"))\n",
        "ui_quant = int(input(\"Enter the quantity: \"))\n",
        "\n",
        "print(\"Product: \", records[ui_prod]['Name'])\n",
        "print(\"Price: \", records[ui_prod]['Price'])\n",
        "print(\"GST Rate:\", records[ui_prod]['GST Rate'])\n",
        "print(\"Billing amount: \", records[ui_prod]['Price'] * ui_quant)\n",
        "\n",
        "records[ui_prod]['Quantity'] = records[ui_prod]['Quantity'] - ui_quant"
      ],
      "execution_count": 6,
      "outputs": [
        {
          "output_type": "stream",
          "name": "stdout",
          "text": [
            "Enter the Product Id: 41307344\n",
            "Enter the quantity: 2\n",
            "Product:  KitKat\n",
            "Price:  10\n",
            "GST Rate: 12%\n",
            "Billing amount:  20\n"
          ]
        }
      ]
    },
    {
      "cell_type": "code",
      "metadata": {
        "colab": {
          "base_uri": "https://localhost:8080/"
        },
        "id": "bpl41Tqaq_Tx",
        "outputId": "b841ab53-17a7-4deb-ccc5-676deff27a6f"
      },
      "source": [
        "records"
      ],
      "execution_count": 7,
      "outputs": [
        {
          "output_type": "execute_result",
          "data": {
            "text/plain": [
              "{'41307341': {'GST Rate': '5%',\n",
              "  'Name': 'Corn Flakes',\n",
              "  'Price': 250,\n",
              "  'Quantity': 500},\n",
              " '41307342': {'GST Rate': '5%',\n",
              "  'Name': 'Cerelac',\n",
              "  'Price': 180,\n",
              "  'Quantity': 300},\n",
              " '41307343': {'GST Rate': '12%',\n",
              "  'Name': 'Maggi',\n",
              "  'Price': 15,\n",
              "  'Quantity': 600},\n",
              " '41307344': {'GST Rate': '12%',\n",
              "  'Name': 'KitKat',\n",
              "  'Price': 10,\n",
              "  'Quantity': 198},\n",
              " '41307345': {'GST Rate': '18%',\n",
              "  'Name': 'Nescafe Classic Coffee',\n",
              "  'Price': 60,\n",
              "  'Quantity': 100},\n",
              " '41307346': {'GST Rate': '5%',\n",
              "  'Name': 'Tomato Sauce',\n",
              "  'Price': 110,\n",
              "  'Quantity': 150},\n",
              " '41307347': {'GST Rate': '12%',\n",
              "  'Name': 'Pringles',\n",
              "  'Price': 65,\n",
              "  'Quantity': 250},\n",
              " '41307348': {'GST Rate': '5%', 'Name': \"Lay's\", 'Price': 30, 'Quantity': 400},\n",
              " '41307349': {'GST Rate': '5%',\n",
              "  'Name': 'Butter',\n",
              "  'Price': 45,\n",
              "  'Quantity': 600},\n",
              " '41307350': {'GST Rate': '5%',\n",
              "  'Name': 'Chilli Sauce',\n",
              "  'Price': 250,\n",
              "  'Quantity': 500},\n",
              " '41307351': {'GST Rate': '5%',\n",
              "  'Name': 'Quaker Oats',\n",
              "  'Price': 220,\n",
              "  'Quantity': 100},\n",
              " '41307352': {'GST Rate': '12%', 'Name': 'Perk', 'Price': 10, 'Quantity': 700},\n",
              " '41307353': {'GST Rate': '12%',\n",
              "  'Name': 'Cadbury Dairy Milk',\n",
              "  'Price': 10,\n",
              "  'Quantity': 200},\n",
              " '41307354': {'GST Rate': '5%',\n",
              "  'Name': 'Cadbury Gems',\n",
              "  'Price': 20,\n",
              "  'Quantity': 100},\n",
              " '41307355': {'GST Rate': '18%',\n",
              "  'Name': 'Lipton Green Tea',\n",
              "  'Price': 70,\n",
              "  'Quantity': 100},\n",
              " '41307356': {'GST Rate': '12%',\n",
              "  'Name': 'Knorr Soup',\n",
              "  'Price': 35,\n",
              "  'Quantity': 225},\n",
              " '41307357': {'GST Rate': '12%',\n",
              "  'Name': 'Cashewnut Cookies',\n",
              "  'Price': 55,\n",
              "  'Quantity': 400},\n",
              " '41307358': {'GST Rate': '5%',\n",
              "  'Name': 'Cheese Slice',\n",
              "  'Price': 60,\n",
              "  'Quantity': 50},\n",
              " '41307359': {'GST Rate': '5%',\n",
              "  'Name': '5 Star',\n",
              "  'Price': 25,\n",
              "  'Quantity': 550},\n",
              " '41307360': {'GST Rate': '0%',\n",
              "  'Name': 'Milk packet',\n",
              "  'Price': 24,\n",
              "  'Quantity': 60},\n",
              " '41307363': {'GST Rate': '5%',\n",
              "  'Name': 'Milk Bikis biscuit',\n",
              "  'Price': 40,\n",
              "  'Quantity': 300},\n",
              " '41307364': {'GST Rate': '12%',\n",
              "  'Name': 'Mayonnaise',\n",
              "  'Price': 50,\n",
              "  'Quantity': 80},\n",
              " '41307365': {'GST Rate': '5%',\n",
              "  'Name': 'Cream Cracker biscuit',\n",
              "  'Price': 30,\n",
              "  'Quantity': 850},\n",
              " '41307366': {'GST Rate': '5%',\n",
              "  'Name': 'Croissant',\n",
              "  'Price': 15,\n",
              "  'Quantity': 300},\n",
              " '41307367': {'GST Rate': '12%',\n",
              "  'Name': 'Pepsi Can',\n",
              "  'Price': 40,\n",
              "  'Quantity': 100},\n",
              " '41307368': {'GST Rate': '12%',\n",
              "  'Name': '7Up Can',\n",
              "  'Price': 40,\n",
              "  'Quantity': 40},\n",
              " '41307369': {'GST Rate': '12%',\n",
              "  'Name': 'Thums Up',\n",
              "  'Price': 15,\n",
              "  'Quantity': 200},\n",
              " '41307370': {'GST Rate': '12%',\n",
              "  'Name': 'Sprite Bottle',\n",
              "  'Price': 36,\n",
              "  'Quantity': 120},\n",
              " '41307371': {'GST Rate': '12%',\n",
              "  'Name': 'Ice Cream',\n",
              "  'Price': 50,\n",
              "  'Quantity': 240}}"
            ]
          },
          "metadata": {},
          "execution_count": 7
        }
      ]
    },
    {
      "cell_type": "markdown",
      "metadata": {
        "id": "KDlcCQE4Anf6"
      },
      "source": [
        "## Update Inventory after purchase"
      ]
    },
    {
      "cell_type": "code",
      "metadata": {
        "id": "vUT479FnC_Wj"
      },
      "source": [
        "js = json.dumps(records)\n",
        "\n",
        "fd = open(\"records.json\",'w')\n",
        "fd.write(js)\n",
        "fd.close()"
      ],
      "execution_count": 8,
      "outputs": []
    },
    {
      "cell_type": "code",
      "metadata": {
        "colab": {
          "base_uri": "https://localhost:8080/",
          "height": 137
        },
        "id": "2y4RUiSbILKp",
        "outputId": "0da00b95-0867-4c83-b8c9-f22dcc971edd"
      },
      "source": [
        "js"
      ],
      "execution_count": 9,
      "outputs": [
        {
          "output_type": "execute_result",
          "data": {
            "application/vnd.google.colaboratory.intrinsic+json": {
              "type": "string"
            },
            "text/plain": [
              "'{\"41307341\": {\"Name\": \"Corn Flakes\", \"Quantity\": 500, \"Price\": 250, \"GST Rate\": \"5%\"}, \"41307342\": {\"Name\": \"Cerelac\", \"Quantity\": 300, \"Price\": 180, \"GST Rate\": \"5%\"}, \"41307343\": {\"Name\": \"Maggi\", \"Quantity\": 600, \"Price\": 15, \"GST Rate\": \"12%\"}, \"41307344\": {\"Name\": \"KitKat\", \"Quantity\": 198, \"Price\": 10, \"GST Rate\": \"12%\"}, \"41307345\": {\"Name\": \"Nescafe Classic Coffee\", \"Quantity\": 100, \"Price\": 60, \"GST Rate\": \"18%\"}, \"41307346\": {\"Name\": \"Tomato Sauce\", \"Quantity\": 150, \"Price\": 110, \"GST Rate\": \"5%\"}, \"41307347\": {\"Name\": \"Pringles\", \"Quantity\": 250, \"Price\": 65, \"GST Rate\": \"12%\"}, \"41307348\": {\"Name\": \"Lay\\'s\", \"Quantity\": 400, \"Price\": 30, \"GST Rate\": \"5%\"}, \"41307349\": {\"Name\": \"Butter\", \"Quantity\": 600, \"Price\": 45, \"GST Rate\": \"5%\"}, \"41307350\": {\"Name\": \"Chilli Sauce\", \"Quantity\": 500, \"Price\": 250, \"GST Rate\": \"5%\"}, \"41307351\": {\"Name\": \"Quaker Oats\", \"Quantity\": 100, \"Price\": 220, \"GST Rate\": \"5%\"}, \"41307352\": {\"Name\": \"Perk\", \"Quantity\": 700, \"Price\": 10, \"GST Rate\": \"12%\"}, \"41307353\": {\"Name\": \"Cadbury Dairy Milk\", \"Quantity\": 200, \"Price\": 10, \"GST Rate\": \"12%\"}, \"41307354\": {\"Name\": \"Cadbury Gems\", \"Quantity\": 100, \"Price\": 20, \"GST Rate\": \"5%\"}, \"41307355\": {\"Name\": \"Lipton Green Tea\", \"Quantity\": 100, \"Price\": 70, \"GST Rate\": \"18%\"}, \"41307356\": {\"Name\": \"Knorr Soup\", \"Quantity\": 225, \"Price\": 35, \"GST Rate\": \"12%\"}, \"41307357\": {\"Name\": \"Cashewnut Cookies\", \"Quantity\": 400, \"Price\": 55, \"GST Rate\": \"12%\"}, \"41307358\": {\"Name\": \"Cheese Slice\", \"Quantity\": 50, \"Price\": 60, \"GST Rate\": \"5%\"}, \"41307359\": {\"Name\": \"5 Star\", \"Quantity\": 550, \"Price\": 25, \"GST Rate\": \"5%\"}, \"41307360\": {\"Name\": \"Milk packet\", \"Quantity\": 60, \"Price\": 24, \"GST Rate\": \"0%\"}, \"41307363\": {\"Name\": \"Milk Bikis biscuit\", \"Price\": 40, \"Quantity\": 300, \"GST Rate\": \"5%\"}, \"41307364\": {\"Name\": \"Mayonnaise\", \"Price\": 50, \"Quantity\": 80, \"GST Rate\": \"12%\"}, \"41307365\": {\"Name\": \"Cream Cracker biscuit\", \"Price\": 30, \"Quantity\": 850, \"GST Rate\": \"5%\"}, \"41307366\": {\"Name\": \"Croissant\", \"Price\": 15, \"Quantity\": 300, \"GST Rate\": \"5%\"}, \"41307367\": {\"Name\": \"Pepsi Can\", \"Price\": 40, \"Quantity\": 100, \"GST Rate\": \"12%\"}, \"41307368\": {\"Name\": \"7Up Can\", \"Price\": 40, \"Quantity\": 40, \"GST Rate\": \"12%\"}, \"41307369\": {\"Name\": \"Thums Up\", \"Price\": 15, \"Quantity\": 200, \"GST Rate\": \"12%\"}, \"41307370\": {\"Name\": \"Sprite Bottle\", \"Price\": 36, \"Quantity\": 120, \"GST Rate\": \"12%\"}, \"41307371\": {\"Name\": \"Ice Cream\", \"Price\": 50, \"Quantity\": 240, \"GST Rate\": \"12%\"}}'"
            ]
          },
          "metadata": {},
          "execution_count": 9
        }
      ]
    },
    {
      "cell_type": "markdown",
      "metadata": {
        "id": "UPkZ2tAxIr9m"
      },
      "source": [
        "## Sales JSON"
      ]
    },
    {
      "cell_type": "code",
      "metadata": {
        "colab": {
          "base_uri": "https://localhost:8080/"
        },
        "id": "Mxz3zDZyIuzK",
        "outputId": "85cf8483-b437-405d-fb76-bd5f03d5004b"
      },
      "source": [
        "{ 'Prod' : ui_prod, 'Quant' : ui_quant, 'Tax' : records[ui_prod]['GST Rate'], 'Amount' : records[ui_prod]['Price'] * ui_quant}"
      ],
      "execution_count": 10,
      "outputs": [
        {
          "output_type": "execute_result",
          "data": {
            "text/plain": [
              "{'Amount': 20, 'Prod': '41307344', 'Quant': 2, 'Tax': '12%'}"
            ]
          },
          "metadata": {},
          "execution_count": 10
        }
      ]
    },
    {
      "cell_type": "code",
      "metadata": {
        "id": "OCmrvbqKf4zu"
      },
      "source": [
        "\n",
        "sales = {}\n",
        "sales = { 1 : {'Prod': '41307371', 'Quant': 1, 'Tax': '12%', 'Amount': 50},\n",
        "          2 : {'Prod': '41307356', 'Quant': 2, 'Tax': '12%', 'Amount': 70},\n",
        "          3 : {'Prod': '41307360', 'Quant': 2, 'Tax': '0%', 'Amount': 48},\n",
        "          4 : {'Prod': '41307354', 'Quant': 4, 'Tax': '5%', 'Amount': 80},\n",
        "          5 : {'Prod': '41307342', 'Quant': 1, 'Tax': '5%', 'Amount': 180},\n",
        "          6 : {'Prod': '41307345', 'Quant': 1, 'Tax': '18%', 'Amount': 60},\n",
        "          7 : {'Prod': '41307349', 'Quant': 1, 'Tax': '5%', 'Amount': 45},\n",
        "          8 : {'Prod': '41307344', 'Quant': 2, 'Tax': '12%', 'Amount': 20}}\n"
      ],
      "execution_count": 11,
      "outputs": []
    },
    {
      "cell_type": "code",
      "metadata": {
        "colab": {
          "base_uri": "https://localhost:8080/"
        },
        "id": "AXQzekwYo7md",
        "outputId": "6df7cc58-2798-40be-b0e1-ebcc87d8bbad"
      },
      "source": [
        "sales"
      ],
      "execution_count": 12,
      "outputs": [
        {
          "output_type": "execute_result",
          "data": {
            "text/plain": [
              "{1: {'Amount': 50, 'Prod': '41307371', 'Quant': 1, 'Tax': '12%'},\n",
              " 2: {'Amount': 70, 'Prod': '41307356', 'Quant': 2, 'Tax': '12%'},\n",
              " 3: {'Amount': 48, 'Prod': '41307360', 'Quant': 2, 'Tax': '0%'},\n",
              " 4: {'Amount': 80, 'Prod': '41307354', 'Quant': 4, 'Tax': '5%'},\n",
              " 5: {'Amount': 180, 'Prod': '41307342', 'Quant': 1, 'Tax': '5%'},\n",
              " 6: {'Amount': 60, 'Prod': '41307345', 'Quant': 1, 'Tax': '18%'},\n",
              " 7: {'Amount': 45, 'Prod': '41307349', 'Quant': 1, 'Tax': '5%'},\n",
              " 8: {'Amount': 20, 'Prod': '41307344', 'Quant': 2, 'Tax': '12%'}}"
            ]
          },
          "metadata": {},
          "execution_count": 12
        }
      ]
    },
    {
      "cell_type": "code",
      "metadata": {
        "id": "Oe4MJIEclODn"
      },
      "source": [
        "sale = json.dumps(sales)\n",
        "\n",
        "fd = open(\"sales.json\",'w')\n",
        "fd.write(sale)\n",
        "fd.close()"
      ],
      "execution_count": 13,
      "outputs": []
    },
    {
      "cell_type": "code",
      "metadata": {
        "colab": {
          "base_uri": "https://localhost:8080/",
          "height": 86
        },
        "id": "httSLlPno_70",
        "outputId": "8d525ab8-eb0b-4a1f-e052-b7bf470b947b"
      },
      "source": [
        "sale"
      ],
      "execution_count": 14,
      "outputs": [
        {
          "output_type": "execute_result",
          "data": {
            "application/vnd.google.colaboratory.intrinsic+json": {
              "type": "string"
            },
            "text/plain": [
              "'{\"1\": {\"Prod\": \"41307371\", \"Quant\": 1, \"Tax\": \"12%\", \"Amount\": 50}, \"2\": {\"Prod\": \"41307356\", \"Quant\": 2, \"Tax\": \"12%\", \"Amount\": 70}, \"3\": {\"Prod\": \"41307360\", \"Quant\": 2, \"Tax\": \"0%\", \"Amount\": 48}, \"4\": {\"Prod\": \"41307354\", \"Quant\": 4, \"Tax\": \"5%\", \"Amount\": 80}, \"5\": {\"Prod\": \"41307342\", \"Quant\": 1, \"Tax\": \"5%\", \"Amount\": 180}, \"6\": {\"Prod\": \"41307345\", \"Quant\": 1, \"Tax\": \"18%\", \"Amount\": 60}, \"7\": {\"Prod\": \"41307349\", \"Quant\": 1, \"Tax\": \"5%\", \"Amount\": 45}, \"8\": {\"Prod\": \"41307344\", \"Quant\": 2, \"Tax\": \"12%\", \"Amount\": 20}}'"
            ]
          },
          "metadata": {},
          "execution_count": 14
        }
      ]
    },
    {
      "cell_type": "code",
      "metadata": {
        "id": "_SbAetU0s2gD"
      },
      "source": [
        "import time"
      ],
      "execution_count": 15,
      "outputs": []
    },
    {
      "cell_type": "code",
      "metadata": {
        "id": "zbz0xhyYo2Ay"
      },
      "source": [
        "last_update = time.ctime()"
      ],
      "execution_count": 16,
      "outputs": []
    },
    {
      "cell_type": "code",
      "metadata": {
        "colab": {
          "base_uri": "https://localhost:8080/",
          "height": 35
        },
        "id": "VKAMj5FEpQXo",
        "outputId": "b721ee4d-8a39-4e44-82e5-82e91d888c5d"
      },
      "source": [
        "last_update"
      ],
      "execution_count": 17,
      "outputs": [
        {
          "output_type": "execute_result",
          "data": {
            "application/vnd.google.colaboratory.intrinsic+json": {
              "type": "string"
            },
            "text/plain": [
              "'Mon Sep  6 15:08:57 2021'"
            ]
          },
          "metadata": {},
          "execution_count": 17
        }
      ]
    },
    {
      "cell_type": "markdown",
      "metadata": {
        "id": "r42FUx7vp94q"
      },
      "source": [
        "## Thank You"
      ]
    },
    {
      "cell_type": "code",
      "metadata": {
        "id": "eDSbSAroqC8K"
      },
      "source": [
        ""
      ],
      "execution_count": null,
      "outputs": []
    }
  ]
}