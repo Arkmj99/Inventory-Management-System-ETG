{
  "nbformat": 4,
  "nbformat_minor": 0,
  "metadata": {
    "colab": {
      "name": "IMS-Adding new products.ipynb",
      "provenance": []
    },
    "kernelspec": {
      "name": "python3",
      "display_name": "Python 3"
    },
    "language_info": {
      "name": "python"
    }
  },
  "cells": [
    {
      "cell_type": "markdown",
      "metadata": {
        "id": "mrhAE-dUk5JJ"
      },
      "source": [
        "## Create and read data from JSON"
      ]
    },
    {
      "cell_type": "code",
      "metadata": {
        "id": "dz0dtQBxyOrK"
      },
      "source": [
        "record = { 41307341 : {\"Name\": \"Corn Flakes\", \"Quantity\": 500, \"Price\": 250, \"GST Rate\": '5%'},\n",
        "           41307342 : {\"Name\": \"Cerelac\", \"Quantity\": 300, \"Price\": 180, \"GST Rate\": '5%'},\n",
        "           41307343 : {\"Name\": \"Maggi\", \"Quantity\": 600, \"Price\": 15, \"GST Rate\": '12%'},\n",
        "           41307344 : {\"Name\": \"KitKat\", \"Quantity\": 200, \"Price\": 10, \"GST Rate\": '12%'},\n",
        "           41307345 : {\"Name\": \"Nescafe Classic Coffee\", \"Quantity\": 100, \"Price\": 60, \"GST Rate\": '18%'},\n",
        "           41307346 : {\"Name\": \"Tomato Sauce\", \"Quantity\": 150, \"Price\": 110, \"GST Rate\": '5%'},\n",
        "           41307347 : {\"Name\": \"Pringles\", \"Quantity\": 250, \"Price\": 65, \"GST Rate\": '12%'},\n",
        "           41307348 : {\"Name\": \"Lay's\", \"Quantity\": 400, \"Price\": 30, \"GST Rate\": '5%'},\n",
        "           41307349 : {\"Name\": \"Butter\", \"Quantity\": 600, \"Price\": 45, \"GST Rate\":'5%'},\n",
        "           41307350 : {\"Name\": \"Chilli Sauce\", \"Quantity\": 500, \"Price\": 250, \"GST Rate\": '5%'},\n",
        "           41307351 : {\"Name\": \"Quaker Oats\", \"Quantity\": 100, \"Price\": 220, \"GST Rate\": '5%'},\n",
        "           41307352 : {\"Name\": \"Perk\", \"Quantity\": 700, \"Price\": 10, \"GST Rate\": '12%'},\n",
        "           41307353 : {\"Name\": \"Cadbury Dairy Milk\", \"Quantity\": 200, \"Price\": 10, \"GST Rate\": '12%'},\n",
        "           41307354 : {\"Name\": \"Cadbury Gems\", \"Quantity\": 100, \"Price\": 20, \"GST Rate\": '5%'},\n",
        "           41307355 : {\"Name\": \"Lipton Green Tea\", \"Quantity\": 100, \"Price\": 70, \"GST Rate\": '18%'},\n",
        "           41307356 : {\"Name\": \"Knorr Soup\", \"Quantity\": 225, \"Price\": 35, \"GST Rate\": '12%'},\n",
        "           41307357 : {\"Name\": \"Cashewnut Cookies\", \"Quantity\": 400, \"Price\": 55, \"GST Rate\": '12%'},\n",
        "           41307358 : {\"Name\": \"Cheese Slice\", \"Quantity\": 50, \"Price\": 60, \"GST Rate\": '5%'},\n",
        "           41307359 : {\"Name\": \"5 Star\", \"Quantity\": 550, \"Price\": 25, \"GST Rate\": '5%'},\n",
        "           41307360 : {\"Name\": \"Milk packet\", \"Quantity\": 60, \"Price\": 24, \"GST Rate\": '0%'}}"
      ],
      "execution_count": 1,
      "outputs": []
    },
    {
      "cell_type": "code",
      "metadata": {
        "colab": {
          "base_uri": "https://localhost:8080/"
        },
        "id": "cToTU6K-tA3o",
        "outputId": "db32f68f-eeeb-4db1-814f-cf0d9514d740"
      },
      "source": [
        "record"
      ],
      "execution_count": 31,
      "outputs": [
        {
          "output_type": "execute_result",
          "data": {
            "text/plain": [
              "{'41307341': {'GST Rate': '5%',\n",
              "  'Name': 'Corn Flakes',\n",
              "  'Price': 250,\n",
              "  'Quantity': 500},\n",
              " '41307342': {'GST Rate': '5%',\n",
              "  'Name': 'Cerelac',\n",
              "  'Price': 180,\n",
              "  'Quantity': 300},\n",
              " '41307343': {'GST Rate': '12%',\n",
              "  'Name': 'Maggi',\n",
              "  'Price': 15,\n",
              "  'Quantity': 600},\n",
              " '41307344': {'GST Rate': '12%',\n",
              "  'Name': 'KitKat',\n",
              "  'Price': 10,\n",
              "  'Quantity': 200},\n",
              " '41307345': {'GST Rate': '18%',\n",
              "  'Name': 'Nescafe Classic Coffee',\n",
              "  'Price': 60,\n",
              "  'Quantity': 100},\n",
              " '41307346': {'GST Rate': '5%',\n",
              "  'Name': 'Tomato Sauce',\n",
              "  'Price': 110,\n",
              "  'Quantity': 150},\n",
              " '41307347': {'GST Rate': '12%',\n",
              "  'Name': 'Pringles',\n",
              "  'Price': 65,\n",
              "  'Quantity': 250},\n",
              " '41307348': {'GST Rate': '5%', 'Name': \"Lay's\", 'Price': 30, 'Quantity': 400},\n",
              " '41307349': {'GST Rate': '5%',\n",
              "  'Name': 'Butter',\n",
              "  'Price': 45,\n",
              "  'Quantity': 600},\n",
              " '41307350': {'GST Rate': '5%',\n",
              "  'Name': 'Chilli Sauce',\n",
              "  'Price': 250,\n",
              "  'Quantity': 500},\n",
              " '41307351': {'GST Rate': '5%',\n",
              "  'Name': 'Quaker Oats',\n",
              "  'Price': 220,\n",
              "  'Quantity': 100},\n",
              " '41307352': {'GST Rate': '12%', 'Name': 'Perk', 'Price': 10, 'Quantity': 700},\n",
              " '41307353': {'GST Rate': '12%',\n",
              "  'Name': 'Cadbury Dairy Milk',\n",
              "  'Price': 10,\n",
              "  'Quantity': 200},\n",
              " '41307354': {'GST Rate': '5%',\n",
              "  'Name': 'Cadbury Gems',\n",
              "  'Price': 20,\n",
              "  'Quantity': 100},\n",
              " '41307355': {'GST Rate': '18%',\n",
              "  'Name': 'Lipton Green Tea',\n",
              "  'Price': 70,\n",
              "  'Quantity': 100},\n",
              " '41307356': {'GST Rate': '12%',\n",
              "  'Name': 'Knorr Soup',\n",
              "  'Price': 35,\n",
              "  'Quantity': 225},\n",
              " '41307357': {'GST Rate': '12%',\n",
              "  'Name': 'Cashewnut Cookies',\n",
              "  'Price': 55,\n",
              "  'Quantity': 400},\n",
              " '41307358': {'GST Rate': '5%',\n",
              "  'Name': 'Cheese Slice',\n",
              "  'Price': 60,\n",
              "  'Quantity': 50},\n",
              " '41307359': {'GST Rate': '5%',\n",
              "  'Name': '5 Star',\n",
              "  'Price': 25,\n",
              "  'Quantity': 550},\n",
              " '41307360': {'GST Rate': '0%',\n",
              "  'Name': 'Milk packet',\n",
              "  'Price': 24,\n",
              "  'Quantity': 60},\n",
              " '41307363': {'GST Rate': '5%',\n",
              "  'Name': 'Milk Bikis biscuit',\n",
              "  'Price': 40,\n",
              "  'Quantity': 300},\n",
              " '41307364': {'GST Rate': '12%',\n",
              "  'Name': 'Mayonnaise',\n",
              "  'Price': 50,\n",
              "  'Quantity': 80},\n",
              " '41307365': {'GST Rate': '5%',\n",
              "  'Name': 'Cream Cracker biscuit',\n",
              "  'Price': 30,\n",
              "  'Quantity': 850},\n",
              " '41307366': {'GST Rate': '5%',\n",
              "  'Name': 'Croissant',\n",
              "  'Price': 15,\n",
              "  'Quantity': 300},\n",
              " '41307367': {'GST Rate': '12%',\n",
              "  'Name': 'Pepsi Can',\n",
              "  'Price': 40,\n",
              "  'Quantity': 100},\n",
              " '41307368': {'GST Rate': '12%',\n",
              "  'Name': '7Up Can',\n",
              "  'Price': 40,\n",
              "  'Quantity': 40},\n",
              " '41307369': {'GST Rate': '12%',\n",
              "  'Name': 'Thums Up',\n",
              "  'Price': 15,\n",
              "  'Quantity': 200},\n",
              " '41307370': {'GST Rate': '12%',\n",
              "  'Name': 'Sprite Bottle',\n",
              "  'Price': 36,\n",
              "  'Quantity': 120},\n",
              " '41307371': {'GST Rate': '12%',\n",
              "  'Name': 'Ice Cream',\n",
              "  'Price': 50,\n",
              "  'Quantity': 240}}"
            ]
          },
          "metadata": {},
          "execution_count": 31
        }
      ]
    },
    {
      "cell_type": "code",
      "metadata": {
        "id": "yYQ4lFe_tDBe"
      },
      "source": [
        "import json"
      ],
      "execution_count": 3,
      "outputs": []
    },
    {
      "cell_type": "code",
      "metadata": {
        "id": "P87QpEi2xVaG"
      },
      "source": [
        "js = json.dumps(record)"
      ],
      "execution_count": 4,
      "outputs": []
    },
    {
      "cell_type": "code",
      "metadata": {
        "colab": {
          "base_uri": "https://localhost:8080/",
          "height": 205
        },
        "id": "IatKIQ2yPzEn",
        "outputId": "2f918696-a845-47da-e86e-826cdc94cc85"
      },
      "source": [
        "js"
      ],
      "execution_count": 5,
      "outputs": [
        {
          "output_type": "execute_result",
          "data": {
            "application/vnd.google.colaboratory.intrinsic+json": {
              "type": "string"
            },
            "text/plain": [
              "'{\"41307341\": {\"Name\": \"Corn Flakes\", \"Quantity\": 500, \"Price\": 250, \"GST Rate\": \"5%\"}, \"41307342\": {\"Name\": \"Cerelac\", \"Quantity\": 300, \"Price\": 180, \"GST Rate\": \"5%\"}, \"41307343\": {\"Name\": \"Maggi\", \"Quantity\": 600, \"Price\": 15, \"GST Rate\": \"12%\"}, \"41307344\": {\"Name\": \"KitKat\", \"Quantity\": 200, \"Price\": 10, \"GST Rate\": \"12%\"}, \"41307345\": {\"Name\": \"Nescafe Classic Coffee\", \"Quantity\": 100, \"Price\": 60, \"GST Rate\": \"18%\"}, \"41307346\": {\"Name\": \"Tomato Sauce\", \"Quantity\": 150, \"Price\": 110, \"GST Rate\": \"5%\"}, \"41307347\": {\"Name\": \"Pringles\", \"Quantity\": 250, \"Price\": 65, \"GST Rate\": \"12%\"}, \"41307348\": {\"Name\": \"Lay\\'s\", \"Quantity\": 400, \"Price\": 30, \"GST Rate\": \"5%\"}, \"41307349\": {\"Name\": \"Butter\", \"Quantity\": 600, \"Price\": 45, \"GST Rate\": \"5%\"}, \"41307350\": {\"Name\": \"Chilli Sauce\", \"Quantity\": 500, \"Price\": 250, \"GST Rate\": \"5%\"}, \"41307351\": {\"Name\": \"Quaker Oats\", \"Quantity\": 100, \"Price\": 220, \"GST Rate\": \"5%\"}, \"41307352\": {\"Name\": \"Perk\", \"Quantity\": 700, \"Price\": 10, \"GST Rate\": \"12%\"}, \"41307353\": {\"Name\": \"Cadbury Dairy Milk\", \"Quantity\": 200, \"Price\": 10, \"GST Rate\": \"12%\"}, \"41307354\": {\"Name\": \"Cadbury Gems\", \"Quantity\": 100, \"Price\": 20, \"GST Rate\": \"5%\"}, \"41307355\": {\"Name\": \"Lipton Green Tea\", \"Quantity\": 100, \"Price\": 70, \"GST Rate\": \"18%\"}, \"41307356\": {\"Name\": \"Knorr Soup\", \"Quantity\": 225, \"Price\": 35, \"GST Rate\": \"12%\"}, \"41307357\": {\"Name\": \"Cashewnut Cookies\", \"Quantity\": 400, \"Price\": 55, \"GST Rate\": \"12%\"}, \"41307358\": {\"Name\": \"Cheese Slice\", \"Quantity\": 50, \"Price\": 60, \"GST Rate\": \"5%\"}, \"41307359\": {\"Name\": \"5 Star\", \"Quantity\": 550, \"Price\": 25, \"GST Rate\": \"5%\"}, \"41307360\": {\"Name\": \"Milk packet\", \"Quantity\": 60, \"Price\": 24, \"GST Rate\": \"0%\"}}'"
            ]
          },
          "metadata": {},
          "execution_count": 5
        }
      ]
    },
    {
      "cell_type": "code",
      "metadata": {
        "id": "xVG7A04XP1uL"
      },
      "source": [
        "fd = open(\"record.json\",'w')\n",
        "fd.write(js)\n",
        "fd.close()"
      ],
      "execution_count": 6,
      "outputs": []
    },
    {
      "cell_type": "code",
      "metadata": {
        "id": "gVPJBCTxWy3-"
      },
      "source": [
        "fd = open(\"record.json\",'r')\n",
        "r = fd.read()\n",
        "fd.close()"
      ],
      "execution_count": 7,
      "outputs": []
    },
    {
      "cell_type": "code",
      "metadata": {
        "id": "Mm1r2gGWXEjP"
      },
      "source": [
        "record = json.loads(r)"
      ],
      "execution_count": 8,
      "outputs": []
    },
    {
      "cell_type": "code",
      "metadata": {
        "colab": {
          "base_uri": "https://localhost:8080/"
        },
        "id": "B_WZd0aTXK_N",
        "outputId": "9651ea0d-9871-4301-9226-80be003d793b"
      },
      "source": [
        "record"
      ],
      "execution_count": 9,
      "outputs": [
        {
          "output_type": "execute_result",
          "data": {
            "text/plain": [
              "{'41307341': {'GST Rate': '5%',\n",
              "  'Name': 'Corn Flakes',\n",
              "  'Price': 250,\n",
              "  'Quantity': 500},\n",
              " '41307342': {'GST Rate': '5%',\n",
              "  'Name': 'Cerelac',\n",
              "  'Price': 180,\n",
              "  'Quantity': 300},\n",
              " '41307343': {'GST Rate': '12%',\n",
              "  'Name': 'Maggi',\n",
              "  'Price': 15,\n",
              "  'Quantity': 600},\n",
              " '41307344': {'GST Rate': '12%',\n",
              "  'Name': 'KitKat',\n",
              "  'Price': 10,\n",
              "  'Quantity': 200},\n",
              " '41307345': {'GST Rate': '18%',\n",
              "  'Name': 'Nescafe Classic Coffee',\n",
              "  'Price': 60,\n",
              "  'Quantity': 100},\n",
              " '41307346': {'GST Rate': '5%',\n",
              "  'Name': 'Tomato Sauce',\n",
              "  'Price': 110,\n",
              "  'Quantity': 150},\n",
              " '41307347': {'GST Rate': '12%',\n",
              "  'Name': 'Pringles',\n",
              "  'Price': 65,\n",
              "  'Quantity': 250},\n",
              " '41307348': {'GST Rate': '5%', 'Name': \"Lay's\", 'Price': 30, 'Quantity': 400},\n",
              " '41307349': {'GST Rate': '5%',\n",
              "  'Name': 'Butter',\n",
              "  'Price': 45,\n",
              "  'Quantity': 600},\n",
              " '41307350': {'GST Rate': '5%',\n",
              "  'Name': 'Chilli Sauce',\n",
              "  'Price': 250,\n",
              "  'Quantity': 500},\n",
              " '41307351': {'GST Rate': '5%',\n",
              "  'Name': 'Quaker Oats',\n",
              "  'Price': 220,\n",
              "  'Quantity': 100},\n",
              " '41307352': {'GST Rate': '12%', 'Name': 'Perk', 'Price': 10, 'Quantity': 700},\n",
              " '41307353': {'GST Rate': '12%',\n",
              "  'Name': 'Cadbury Dairy Milk',\n",
              "  'Price': 10,\n",
              "  'Quantity': 200},\n",
              " '41307354': {'GST Rate': '5%',\n",
              "  'Name': 'Cadbury Gems',\n",
              "  'Price': 20,\n",
              "  'Quantity': 100},\n",
              " '41307355': {'GST Rate': '18%',\n",
              "  'Name': 'Lipton Green Tea',\n",
              "  'Price': 70,\n",
              "  'Quantity': 100},\n",
              " '41307356': {'GST Rate': '12%',\n",
              "  'Name': 'Knorr Soup',\n",
              "  'Price': 35,\n",
              "  'Quantity': 225},\n",
              " '41307357': {'GST Rate': '12%',\n",
              "  'Name': 'Cashewnut Cookies',\n",
              "  'Price': 55,\n",
              "  'Quantity': 400},\n",
              " '41307358': {'GST Rate': '5%',\n",
              "  'Name': 'Cheese Slice',\n",
              "  'Price': 60,\n",
              "  'Quantity': 50},\n",
              " '41307359': {'GST Rate': '5%',\n",
              "  'Name': '5 Star',\n",
              "  'Price': 25,\n",
              "  'Quantity': 550},\n",
              " '41307360': {'GST Rate': '0%',\n",
              "  'Name': 'Milk packet',\n",
              "  'Price': 24,\n",
              "  'Quantity': 60}}"
            ]
          },
          "metadata": {},
          "execution_count": 9
        }
      ]
    },
    {
      "cell_type": "markdown",
      "metadata": {
        "id": "kqJ4o1ollRXe"
      },
      "source": [
        "## Add new item into Inventory"
      ]
    },
    {
      "cell_type": "code",
      "metadata": {
        "colab": {
          "base_uri": "https://localhost:8080/"
        },
        "id": "bc8iVpSRbmVl",
        "outputId": "8afed23b-cb14-4809-a84d-12630e6ea80e"
      },
      "source": [
        "prod_id = str(input(\"Enter the product id: \"))\n",
        "Name = str(input(\"Enter the name: \"))\n",
        "Price = int(input(\"Enter the price: \"))\n",
        "Quantity = int(input(\"Enter the quantity: \"))\n",
        "GST_Rate = str(input(\"Enter the rate: \"))\n",
        "\n",
        "record[prod_id] = {'Name': Name, 'Price': Price, 'Quantity': Quantity, 'GST Rate': GST_Rate}\n",
        "\n",
        "js = json.dumps(record)\n",
        "\n",
        "fd = open(\"record.json\",'w')\n",
        "fd.write(js)\n",
        "fd.close()"
      ],
      "execution_count": 26,
      "outputs": [
        {
          "name": "stdout",
          "output_type": "stream",
          "text": [
            "Enter the product id: 41307371\n",
            "Enter the name: Ice Cream\n",
            "Enter the price: 50\n",
            "Enter the quantity: 240\n",
            "Enter the rate: 12%\n"
          ]
        }
      ]
    },
    {
      "cell_type": "code",
      "metadata": {
        "colab": {
          "base_uri": "https://localhost:8080/"
        },
        "id": "RnMBX5rKcf-j",
        "outputId": "e04d93f5-a755-4631-eaa0-0d20c2675dac"
      },
      "source": [
        "record"
      ],
      "execution_count": 27,
      "outputs": [
        {
          "output_type": "execute_result",
          "data": {
            "text/plain": [
              "{'41307341': {'GST Rate': '5%',\n",
              "  'Name': 'Corn Flakes',\n",
              "  'Price': 250,\n",
              "  'Quantity': 500},\n",
              " '41307342': {'GST Rate': '5%',\n",
              "  'Name': 'Cerelac',\n",
              "  'Price': 180,\n",
              "  'Quantity': 300},\n",
              " '41307343': {'GST Rate': '12%',\n",
              "  'Name': 'Maggi',\n",
              "  'Price': 15,\n",
              "  'Quantity': 600},\n",
              " '41307344': {'GST Rate': '12%',\n",
              "  'Name': 'KitKat',\n",
              "  'Price': 10,\n",
              "  'Quantity': 200},\n",
              " '41307345': {'GST Rate': '18%',\n",
              "  'Name': 'Nescafe Classic Coffee',\n",
              "  'Price': 60,\n",
              "  'Quantity': 100},\n",
              " '41307346': {'GST Rate': '5%',\n",
              "  'Name': 'Tomato Sauce',\n",
              "  'Price': 110,\n",
              "  'Quantity': 150},\n",
              " '41307347': {'GST Rate': '12%',\n",
              "  'Name': 'Pringles',\n",
              "  'Price': 65,\n",
              "  'Quantity': 250},\n",
              " '41307348': {'GST Rate': '5%', 'Name': \"Lay's\", 'Price': 30, 'Quantity': 400},\n",
              " '41307349': {'GST Rate': '5%',\n",
              "  'Name': 'Butter',\n",
              "  'Price': 45,\n",
              "  'Quantity': 600},\n",
              " '41307350': {'GST Rate': '5%',\n",
              "  'Name': 'Chilli Sauce',\n",
              "  'Price': 250,\n",
              "  'Quantity': 500},\n",
              " '41307351': {'GST Rate': '5%',\n",
              "  'Name': 'Quaker Oats',\n",
              "  'Price': 220,\n",
              "  'Quantity': 100},\n",
              " '41307352': {'GST Rate': '12%', 'Name': 'Perk', 'Price': 10, 'Quantity': 700},\n",
              " '41307353': {'GST Rate': '12%',\n",
              "  'Name': 'Cadbury Dairy Milk',\n",
              "  'Price': 10,\n",
              "  'Quantity': 200},\n",
              " '41307354': {'GST Rate': '5%',\n",
              "  'Name': 'Cadbury Gems',\n",
              "  'Price': 20,\n",
              "  'Quantity': 100},\n",
              " '41307355': {'GST Rate': '18%',\n",
              "  'Name': 'Lipton Green Tea',\n",
              "  'Price': 70,\n",
              "  'Quantity': 100},\n",
              " '41307356': {'GST Rate': '12%',\n",
              "  'Name': 'Knorr Soup',\n",
              "  'Price': 35,\n",
              "  'Quantity': 225},\n",
              " '41307357': {'GST Rate': '12%',\n",
              "  'Name': 'Cashewnut Cookies',\n",
              "  'Price': 55,\n",
              "  'Quantity': 400},\n",
              " '41307358': {'GST Rate': '5%',\n",
              "  'Name': 'Cheese Slice',\n",
              "  'Price': 60,\n",
              "  'Quantity': 50},\n",
              " '41307359': {'GST Rate': '5%',\n",
              "  'Name': '5 Star',\n",
              "  'Price': 25,\n",
              "  'Quantity': 550},\n",
              " '41307360': {'GST Rate': '0%',\n",
              "  'Name': 'Milk packet',\n",
              "  'Price': 24,\n",
              "  'Quantity': 60},\n",
              " '41307363': {'GST Rate': '5%',\n",
              "  'Name': 'Milk Bikis biscuit',\n",
              "  'Price': 40,\n",
              "  'Quantity': 300},\n",
              " '41307364': {'GST Rate': '12%',\n",
              "  'Name': 'Mayonnaise',\n",
              "  'Price': 50,\n",
              "  'Quantity': 80},\n",
              " '41307365': {'GST Rate': '5%',\n",
              "  'Name': 'Cream Cracker biscuit',\n",
              "  'Price': 30,\n",
              "  'Quantity': 850},\n",
              " '41307366': {'GST Rate': '5%',\n",
              "  'Name': 'Croissant',\n",
              "  'Price': 15,\n",
              "  'Quantity': 300},\n",
              " '41307367': {'GST Rate': '12%',\n",
              "  'Name': 'Pepsi Can',\n",
              "  'Price': 40,\n",
              "  'Quantity': 100},\n",
              " '41307368': {'GST Rate': '12%',\n",
              "  'Name': '7Up Can',\n",
              "  'Price': 40,\n",
              "  'Quantity': 40},\n",
              " '41307369': {'GST Rate': '12%',\n",
              "  'Name': 'Thums Up',\n",
              "  'Price': 15,\n",
              "  'Quantity': 200},\n",
              " '41307370': {'GST Rate': '12%',\n",
              "  'Name': 'Sprite Bottle',\n",
              "  'Price': 36,\n",
              "  'Quantity': 120},\n",
              " '41307371': {'GST Rate': '12%',\n",
              "  'Name': 'Ice Cream',\n",
              "  'Price': 50,\n",
              "  'Quantity': 240}}"
            ]
          },
          "metadata": {},
          "execution_count": 27
        }
      ]
    },
    {
      "cell_type": "code",
      "metadata": {
        "id": "iKdKfUE2d_hj"
      },
      "source": [
        ""
      ],
      "execution_count": null,
      "outputs": []
    }
  ]
}